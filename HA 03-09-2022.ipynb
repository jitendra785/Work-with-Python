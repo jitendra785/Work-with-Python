{
 "cells": [
  {
   "cell_type": "code",
   "execution_count": 14,
   "id": "9653e63b",
   "metadata": {},
   "outputs": [
    {
     "name": "stdout",
     "output_type": "stream",
     "text": [
      "[152, 254, 354, 356, 365, 421, 563]\n",
      "563\n"
     ]
    }
   ],
   "source": [
    "a=[152,254,356,354,421,563,365]\n",
    "b=sorted(a)\n",
    "print(b)\n",
    "\n",
    "print(b[-1])"
   ]
  },
  {
   "cell_type": "code",
   "execution_count": 8,
   "id": "010acf18",
   "metadata": {},
   "outputs": [
    {
     "name": "stdout",
     "output_type": "stream",
     "text": [
      "Enter The Number of items in the list:10\n",
      "Enter the Numbers: 5\n",
      "Enter the Numbers: 45\n",
      "Enter the Numbers: 65\n",
      "Enter the Numbers: 85\n",
      "Enter the Numbers: 95\n",
      "Enter the Numbers: 99\n",
      "Enter the Numbers: 65\n",
      "Enter the Numbers: 701\n",
      "Enter the Numbers: 54\n",
      "Enter the Numbers: 844\n",
      "[5, 45, 65, 85, 95, 99, 65, 701, 54, 844]\n",
      "The leargest Number in the list is:  844\n"
     ]
    }
   ],
   "source": [
    "a=[]\n",
    "b1=int(input(\"Enter The Number of items in the list:\"))\n",
    "for x in range (b1):\n",
    "    b2=int(input(\"Enter the Numbers: \"))\n",
    "    a.append(b2)\n",
    "print(a)\n",
    "b3=sorted(a)\n",
    "print(\"The largest Number in the list is: \",b3[-1])"
   ]
  },
  {
   "cell_type": "code",
   "execution_count": 13,
   "id": "49007f25",
   "metadata": {},
   "outputs": [
    {
     "name": "stdout",
     "output_type": "stream",
     "text": [
      "hsejaR\n"
     ]
    }
   ],
   "source": [
    "a=\"Rajesh\"\n",
    "print(a[::-1])       # TO reverse the given string"
   ]
  },
  {
   "cell_type": "code",
   "execution_count": 15,
   "id": "f0fb04cb",
   "metadata": {},
   "outputs": [
    {
     "name": "stdout",
     "output_type": "stream",
     "text": [
      "Enter The Name: Raviraj\n",
      "jarivaR\n",
      "Enter The Name: Jitendra\n",
      "ardnetiJ\n",
      "Enter The Name: Sagar\n",
      "ragaS\n",
      "Enter The Name: Rahul\n",
      "luhaR\n",
      "Enter The Name: Shashikant\n",
      "tnakihsahS\n"
     ]
    }
   ],
   "source": [
    "for x in range (5): \n",
    "    a=input(\"Enter The Name: \")\n",
    "    print(a[::-1])       # To reverse the user input"
   ]
  },
  {
   "cell_type": "code",
   "execution_count": 11,
   "id": "fa252661",
   "metadata": {},
   "outputs": [
    {
     "name": "stdout",
     "output_type": "stream",
     "text": [
      "Enter the number of students in the class: 25\n",
      "Enter the age of the students :17\n",
      "Enter the age of the students :26\n",
      "Enter the age of the students :18\n",
      "Enter the age of the students :25\n",
      "Enter the age of the students :19\n",
      "Enter the age of the students :24\n",
      "Enter the age of the students :23\n",
      "Enter the age of the students :20\n",
      "Enter the age of the students :22\n",
      "Enter the age of the students :21\n",
      "Enter the age of the students :21\n",
      "Enter the age of the students :20\n",
      "Enter the age of the students :20\n",
      "Enter the age of the students :23\n",
      "Enter the age of the students :22\n",
      "Enter the age of the students :23\n",
      "Enter the age of the students :21\n",
      "Enter the age of the students :24\n",
      "Enter the age of the students :25\n",
      "Enter the age of the students :25\n",
      "Enter the age of the students :24\n",
      "Enter the age of the students :24\n",
      "Enter the age of the students :26\n",
      "Enter the age of the students :23\n",
      "Enter the age of the students :23\n",
      "The given List of age of the students: [17, 26, 18, 25, 19, 24, 23, 20, 22, 21, 21, 20, 20, 23, 22, 23, 21, 24, 25, 25, 24, 24, 26, 23, 23]\n",
      "By Ascending Order:  [17, 18, 19, 20, 20, 20, 21, 21, 21, 22, 22, 23, 23, 23, 23, 23, 24, 24, 24, 24, 25, 25, 25, 26, 26]\n",
      "17   1\n",
      "18   1\n",
      "19   1\n",
      "20   3\n",
      "21   3\n",
      "22   2\n",
      "23   5\n",
      "24   4\n",
      "25   3\n",
      "26   2\n"
     ]
    },
    {
     "data": {
      "text/html": [
       "<div>\n",
       "<style scoped>\n",
       "    .dataframe tbody tr th:only-of-type {\n",
       "        vertical-align: middle;\n",
       "    }\n",
       "\n",
       "    .dataframe tbody tr th {\n",
       "        vertical-align: top;\n",
       "    }\n",
       "\n",
       "    .dataframe thead th {\n",
       "        text-align: right;\n",
       "    }\n",
       "</style>\n",
       "<table border=\"1\" class=\"dataframe\">\n",
       "  <thead>\n",
       "    <tr style=\"text-align: right;\">\n",
       "      <th></th>\n",
       "      <th>Class</th>\n",
       "      <th>Frequency</th>\n",
       "      <th>Cumulative Frequency</th>\n",
       "    </tr>\n",
       "  </thead>\n",
       "  <tbody>\n",
       "    <tr>\n",
       "      <th>0</th>\n",
       "      <td>17</td>\n",
       "      <td>1</td>\n",
       "      <td>1</td>\n",
       "    </tr>\n",
       "    <tr>\n",
       "      <th>1</th>\n",
       "      <td>18</td>\n",
       "      <td>1</td>\n",
       "      <td>2</td>\n",
       "    </tr>\n",
       "    <tr>\n",
       "      <th>2</th>\n",
       "      <td>19</td>\n",
       "      <td>1</td>\n",
       "      <td>3</td>\n",
       "    </tr>\n",
       "    <tr>\n",
       "      <th>3</th>\n",
       "      <td>20</td>\n",
       "      <td>3</td>\n",
       "      <td>6</td>\n",
       "    </tr>\n",
       "    <tr>\n",
       "      <th>4</th>\n",
       "      <td>21</td>\n",
       "      <td>3</td>\n",
       "      <td>9</td>\n",
       "    </tr>\n",
       "    <tr>\n",
       "      <th>5</th>\n",
       "      <td>22</td>\n",
       "      <td>2</td>\n",
       "      <td>11</td>\n",
       "    </tr>\n",
       "    <tr>\n",
       "      <th>6</th>\n",
       "      <td>23</td>\n",
       "      <td>5</td>\n",
       "      <td>16</td>\n",
       "    </tr>\n",
       "    <tr>\n",
       "      <th>7</th>\n",
       "      <td>24</td>\n",
       "      <td>4</td>\n",
       "      <td>20</td>\n",
       "    </tr>\n",
       "    <tr>\n",
       "      <th>8</th>\n",
       "      <td>25</td>\n",
       "      <td>3</td>\n",
       "      <td>23</td>\n",
       "    </tr>\n",
       "    <tr>\n",
       "      <th>9</th>\n",
       "      <td>26</td>\n",
       "      <td>2</td>\n",
       "      <td>25</td>\n",
       "    </tr>\n",
       "  </tbody>\n",
       "</table>\n",
       "</div>"
      ],
      "text/plain": [
       "   Class  Frequency  Cumulative Frequency\n",
       "0     17          1                     1\n",
       "1     18          1                     2\n",
       "2     19          1                     3\n",
       "3     20          3                     6\n",
       "4     21          3                     9\n",
       "5     22          2                    11\n",
       "6     23          5                    16\n",
       "7     24          4                    20\n",
       "8     25          3                    23\n",
       "9     26          2                    25"
      ]
     },
     "execution_count": 11,
     "metadata": {},
     "output_type": "execute_result"
    }
   ],
   "source": [
    "import pandas as pd\n",
    "a=[]\n",
    "b=int(input(\"Enter the number of students in the class: \"))\n",
    "for x in range (b):\n",
    "    a1=int(input(\"Enter the age of the students :\"))\n",
    "    a.append(a1)\n",
    "print(\"The given List of age of the students:\",a)\n",
    "list=print(\"By Ascending Order: \",sorted(a))\n",
    "setlist=set(a)\n",
    "n=len(a)\n",
    "\n",
    "f=[]\n",
    "c=[]\n",
    "for x in setlist:\n",
    "    freq=a.count(x)\n",
    "    if (freq >= 1):\n",
    "        print(x,\" \",freq)\n",
    "        c.append(x)\n",
    "        f.append(freq)\n",
    "        \n",
    "df=pd.DataFrame({\"Class\":c,\"Frequency\":f})\n",
    "df\n",
    "df['Cumulative Frequency'] = df['Frequency'].cumsum()\n",
    "df\n",
    "\n",
    "Q1= n/4\n",
    "print(Q1)\n",
    "        \n",
    "\n",
    "\n",
    "\n",
    "\n"
   ]
  },
  {
   "cell_type": "code",
   "execution_count": 16,
   "id": "8802ad14",
   "metadata": {},
   "outputs": [
    {
     "name": "stdout",
     "output_type": "stream",
     "text": [
      "First Freq is: 6\n",
      "Second Freq is: 12\n",
      "Third Freq is: 19\n"
     ]
    }
   ],
   "source": [
    "Freq1=n/4\n",
    "F1=round(Freq1)\n",
    "print(\"First Freq is:\",F1)\n",
    "\n",
    "Freq2=2*n/4\n",
    "F2=round(Freq2)\n",
    "print(\"Second Freq is:\",F2)\n",
    "Freq3=3*n/4\n",
    "F3=round(Freq3)\n",
    "print(\"Third Freq is:\",F3)"
   ]
  },
  {
   "cell_type": "code",
   "execution_count": null,
   "id": "ada7b242",
   "metadata": {},
   "outputs": [],
   "source": [
    "# Crresponding class of the Freq1,freq2,Freq3 is a quartile.\n"
   ]
  }
 ],
 "metadata": {
  "kernelspec": {
   "display_name": "Python 3 (ipykernel)",
   "language": "python",
   "name": "python3"
  },
  "language_info": {
   "codemirror_mode": {
    "name": "ipython",
    "version": 3
   },
   "file_extension": ".py",
   "mimetype": "text/x-python",
   "name": "python",
   "nbconvert_exporter": "python",
   "pygments_lexer": "ipython3",
   "version": "3.9.6"
  }
 },
 "nbformat": 4,
 "nbformat_minor": 5
}
