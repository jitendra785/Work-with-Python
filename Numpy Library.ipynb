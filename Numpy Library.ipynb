{
 "cells": [
  {
   "cell_type": "markdown",
   "id": "d2d62799",
   "metadata": {},
   "source": [
    "## Assignment: work with numpy\n",
    "\n",
    "\n",
    "### Jitendra Sanjay Bhavsar"
   ]
  },
  {
   "cell_type": "code",
   "execution_count": 26,
   "id": "f47ef2fa",
   "metadata": {},
   "outputs": [],
   "source": [
    "import numpy as np   # import numpy library \n",
    "\n"
   ]
  },
  {
   "cell_type": "markdown",
   "id": "ee78b100",
   "metadata": {},
   "source": [
    "# Work with numpy array "
   ]
  },
  {
   "cell_type": "code",
   "execution_count": 27,
   "id": "ab139b4a",
   "metadata": {},
   "outputs": [
    {
     "name": "stdout",
     "output_type": "stream",
     "text": [
      "[2 2 2 2]\n",
      "<class 'numpy.dtype'>\n",
      "int32\n",
      "1\n"
     ]
    }
   ],
   "source": [
    "a=np.array([2,2,2,2])\n",
    "print(a)\n",
    "print(np.dtype)               # array type\n",
    "print(a.dtype)                # Datatype of items\n",
    "print(a.ndim)                 # dimensions type"
   ]
  },
  {
   "cell_type": "code",
   "execution_count": 28,
   "id": "93515dfa",
   "metadata": {},
   "outputs": [
    {
     "name": "stdout",
     "output_type": "stream",
     "text": [
      "float64\n"
     ]
    }
   ],
   "source": [
    "a=np.array([2.3,2.5,2,2])     # Datatype of items\n",
    "print(a.dtype)"
   ]
  },
  {
   "cell_type": "code",
   "execution_count": 29,
   "id": "94a47971",
   "metadata": {},
   "outputs": [
    {
     "name": "stdout",
     "output_type": "stream",
     "text": [
      "<U11\n"
     ]
    }
   ],
   "source": [
    "a=np.array([\"2\",2,2,2])     \n",
    "print(a.dtype)     # In numpy array if we take one items in double quote and another is int then data type is unic code (string)"
   ]
  },
  {
   "cell_type": "code",
   "execution_count": 30,
   "id": "effac83f",
   "metadata": {},
   "outputs": [
    {
     "name": "stdout",
     "output_type": "stream",
     "text": [
      "2\n"
     ]
    }
   ],
   "source": [
    "a=np.array([[1,2,3,4,5,6]])\n",
    "print(a.ndim)"
   ]
  },
  {
   "cell_type": "code",
   "execution_count": 31,
   "id": "5640dc5e",
   "metadata": {},
   "outputs": [
    {
     "name": "stdout",
     "output_type": "stream",
     "text": [
      "[[[1 2 3 4 5 6]]]\n",
      "3\n"
     ]
    }
   ],
   "source": [
    "a=np.array([[[1,2,3,4,5,6]]])\n",
    "print(a)\n",
    "print(a.ndim)"
   ]
  },
  {
   "cell_type": "code",
   "execution_count": 32,
   "id": "fda11380",
   "metadata": {},
   "outputs": [
    {
     "name": "stdout",
     "output_type": "stream",
     "text": [
      "[[1 2 3]\n",
      " [4 5 6]]\n",
      "2\n"
     ]
    }
   ],
   "source": [
    "a=np.array([[1,2,3],[4,5,6]])\n",
    "print(a)\n",
    "print(a.ndim)"
   ]
  },
  {
   "cell_type": "code",
   "execution_count": 33,
   "id": "27fdbb42",
   "metadata": {},
   "outputs": [
    {
     "name": "stdout",
     "output_type": "stream",
     "text": [
      "[[1 2]\n",
      " [3 4]\n",
      " [5 6]]\n",
      "2\n"
     ]
    }
   ],
   "source": [
    "a=np.array([[1,2],[3,4],[5,6]])\n",
    "print(a)\n",
    "print(a.ndim)"
   ]
  },
  {
   "cell_type": "code",
   "execution_count": 34,
   "id": "c17791e2",
   "metadata": {},
   "outputs": [
    {
     "name": "stdout",
     "output_type": "stream",
     "text": [
      "[[[1 2]\n",
      "  [3 4]\n",
      "  [5 6]]]\n",
      "3\n"
     ]
    }
   ],
   "source": [
    "a=np.array([[[1,2],[3,4],[5,6]]])\n",
    "print(a)\n",
    "print(a.ndim)        # Number of dimensions"
   ]
  },
  {
   "cell_type": "code",
   "execution_count": 35,
   "id": "55db327e",
   "metadata": {},
   "outputs": [
    {
     "name": "stdout",
     "output_type": "stream",
     "text": [
      "[[[[1 2]\n",
      "   [3 4]\n",
      "   [5 6]]]]\n",
      "4\n"
     ]
    }
   ],
   "source": [
    "a=np.array([[[[1,2],[3,4],[5,6]]]])\n",
    "print(a)\n",
    "print(a.ndim)"
   ]
  },
  {
   "cell_type": "code",
   "execution_count": 36,
   "id": "1ac465fa",
   "metadata": {},
   "outputs": [
    {
     "name": "stdout",
     "output_type": "stream",
     "text": [
      "[50]\n",
      "1\n"
     ]
    }
   ],
   "source": [
    "a=np.array([50])  # One dimension array\n",
    "print(a)\n",
    "print(a.ndim)"
   ]
  },
  {
   "cell_type": "code",
   "execution_count": 37,
   "id": "ac9d4324",
   "metadata": {},
   "outputs": [
    {
     "name": "stdout",
     "output_type": "stream",
     "text": [
      "50\n",
      "0\n"
     ]
    }
   ],
   "source": [
    "a=np.array(50) #Zero Dimension array\n",
    "print(a)\n",
    "print(a.ndim)  "
   ]
  },
  {
   "cell_type": "code",
   "execution_count": 38,
   "id": "8f9b0c44",
   "metadata": {},
   "outputs": [
    {
     "name": "stdout",
     "output_type": "stream",
     "text": [
      "[[[1 2 3 4]\n",
      "  [5 6 7 8]]]\n",
      "3\n",
      "(1, 2, 4)\n"
     ]
    }
   ],
   "source": [
    "a=np.array([[[1,2,3,4],[5,6,7,8]]])\n",
    "print(a)\n",
    "print(a.ndim)\n",
    "print(a.shape)   # Here we get Number of dim, number of rows and number of columns"
   ]
  },
  {
   "cell_type": "code",
   "execution_count": 39,
   "id": "f2fb2cae",
   "metadata": {},
   "outputs": [
    {
     "name": "stdout",
     "output_type": "stream",
     "text": [
      "[[[ 1  2  3  4]\n",
      "  [ 5  6  7  8]\n",
      "  [ 9 10 11 12]]]\n",
      "3\n",
      "(1, 3, 4)\n"
     ]
    }
   ],
   "source": [
    "a=np.array([[[1,2,3,4],[5,6,7,8],[9,10,11,12]]])\n",
    "print(a)\n",
    "print(a.ndim)\n",
    "print(a.shape)   # Here we get Number of dim, number of rows and number of columns"
   ]
  },
  {
   "cell_type": "code",
   "execution_count": 40,
   "id": "11218dc7",
   "metadata": {},
   "outputs": [
    {
     "name": "stdout",
     "output_type": "stream",
     "text": [
      "[[[ 1  2  3  4]]\n",
      "\n",
      " [[ 9 10 11 12]]\n",
      "\n",
      " [[ 5  6  7  8]]]\n",
      "3\n",
      "(3, 1, 4)\n"
     ]
    }
   ],
   "source": [
    "a=np.array([[[1,2,3,4]],[[9,10,11,12]],[[5,6,7,8]]])\n",
    "print(a)\n",
    "print(a.ndim)\n",
    "print(np.shape(a))   # Here we get Number of dim, number of rows and number of columns"
   ]
  },
  {
   "cell_type": "markdown",
   "id": "62cebf3f",
   "metadata": {},
   "source": [
    "# Creating Array"
   ]
  },
  {
   "cell_type": "code",
   "execution_count": 41,
   "id": "fb53c1bc",
   "metadata": {},
   "outputs": [
    {
     "name": "stdout",
     "output_type": "stream",
     "text": [
      "[[0. 0. 0.]\n",
      " [0. 0. 0.]]\n"
     ]
    }
   ],
   "source": [
    "ab=np.zeros([2,3])   # Creating zeros matrix\n",
    "print(ab)"
   ]
  },
  {
   "cell_type": "code",
   "execution_count": 42,
   "id": "ec34315f",
   "metadata": {},
   "outputs": [
    {
     "name": "stdout",
     "output_type": "stream",
     "text": [
      "[[1. 1. 1. 1.]\n",
      " [1. 1. 1. 1.]\n",
      " [1. 1. 1. 1.]\n",
      " [1. 1. 1. 1.]]\n"
     ]
    }
   ],
   "source": [
    "ab=np.ones([4,4])    # Creating Ones Matrix\n",
    "print(ab)"
   ]
  },
  {
   "cell_type": "code",
   "execution_count": 43,
   "id": "980b2182",
   "metadata": {},
   "outputs": [
    {
     "name": "stdout",
     "output_type": "stream",
     "text": [
      "[[1. 0. 0. 0.]\n",
      " [0. 1. 0. 0.]\n",
      " [0. 0. 1. 0.]\n",
      " [0. 0. 0. 1.]]\n"
     ]
    }
   ],
   "source": [
    "ab=np.eye(4,4)    # Creating Ones Matrix\n",
    "print(ab)"
   ]
  },
  {
   "cell_type": "markdown",
   "id": "a01c1157",
   "metadata": {},
   "source": [
    "# Array Reshape"
   ]
  },
  {
   "cell_type": "code",
   "execution_count": 44,
   "id": "505cb5fe",
   "metadata": {},
   "outputs": [
    {
     "name": "stdout",
     "output_type": "stream",
     "text": [
      "[1 2 3 4 5 6 7 8 9]\n"
     ]
    }
   ],
   "source": [
    "a=np.array([1,2,3,4,5,6,7,8,9])\n",
    "print(a)"
   ]
  },
  {
   "cell_type": "code",
   "execution_count": 45,
   "id": "f5657771",
   "metadata": {},
   "outputs": [
    {
     "name": "stdout",
     "output_type": "stream",
     "text": [
      "[[1 2 3]\n",
      " [4 5 6]\n",
      " [7 8 9]]\n"
     ]
    }
   ],
   "source": [
    "b=a.reshape(3,3)\n",
    "print(b)"
   ]
  },
  {
   "cell_type": "code",
   "execution_count": 46,
   "id": "8cb555ad",
   "metadata": {},
   "outputs": [
    {
     "name": "stdout",
     "output_type": "stream",
     "text": [
      "[[ 1  2]\n",
      " [ 3  4]\n",
      " [ 5  6]\n",
      " [ 7  8]\n",
      " [ 9 10]\n",
      " [11 12]]\n",
      "[[ 1  2  3  4  5  6]\n",
      " [ 7  8  9 10 11 12]]\n",
      "[[ 1  2  3]\n",
      " [ 4  5  6]\n",
      " [ 7  8  9]\n",
      " [10 11 12]]\n",
      "[[ 1  2  3  4]\n",
      " [ 5  6  7  8]\n",
      " [ 9 10 11 12]]\n"
     ]
    }
   ],
   "source": [
    "a=np.array([1,2,3,4,5,6,7,8,9,10,11,12])\n",
    "b1=(a.reshape(6,2))\n",
    "print(b1)\n",
    "b2=(a.reshape(2,6))\n",
    "print(b2)\n",
    "b3=(a.reshape(4,3))\n",
    "print(b3)\n",
    "b4=(a.reshape(3,4))\n",
    "print(b4)"
   ]
  },
  {
   "cell_type": "code",
   "execution_count": 47,
   "id": "7f860380",
   "metadata": {},
   "outputs": [
    {
     "name": "stdout",
     "output_type": "stream",
     "text": [
      "[[ 1  2  3  4  5  6]\n",
      " [ 7  8  9 10 11 12]\n",
      " [13 14 15 16 17 18]]\n"
     ]
    }
   ],
   "source": [
    "a=np.array([1,2,3,4,5,6,7,8,9,10,11,12,13,14,15,16,17,18])\n",
    "print(a.reshape(3,6))\n"
   ]
  },
  {
   "cell_type": "code",
   "execution_count": 48,
   "id": "5f79c418",
   "metadata": {},
   "outputs": [
    {
     "name": "stdout",
     "output_type": "stream",
     "text": [
      "[[[ 1  2]\n",
      "  [ 3  4]\n",
      "  [ 5  6]]\n",
      "\n",
      " [[ 7  8]\n",
      "  [ 9 10]\n",
      "  [11 12]]\n",
      "\n",
      " [[13 14]\n",
      "  [15 16]\n",
      "  [17 18]]]\n"
     ]
    }
   ],
   "source": [
    "a=np.array([1,2,3,4,5,6,7,8,9,10,11,12,13,14,15,16,17,18])\n",
    "print(a.reshape(3,3,2))"
   ]
  },
  {
   "cell_type": "markdown",
   "id": "76379c7a",
   "metadata": {},
   "source": [
    "# working With Array slicing"
   ]
  },
  {
   "cell_type": "code",
   "execution_count": 49,
   "id": "38c8b01c",
   "metadata": {},
   "outputs": [
    {
     "name": "stdout",
     "output_type": "stream",
     "text": [
      "[1 2 3]\n"
     ]
    }
   ],
   "source": [
    "a=np.array([1,2,3,4,5,6,7,8,9,10,11,12,13,14,15,16,17,18])\n",
    "print(a[:3])"
   ]
  },
  {
   "cell_type": "code",
   "execution_count": 50,
   "id": "b991ee3f",
   "metadata": {},
   "outputs": [
    {
     "name": "stdout",
     "output_type": "stream",
     "text": [
      "[ 5  6  7  8  9 10 11 12 13 14 15 16 17 18]\n"
     ]
    }
   ],
   "source": [
    "a=np.array([1,2,3,4,5,6,7,8,9,10,11,12,13,14,15,16,17,18])\n",
    "print(a[4:])"
   ]
  },
  {
   "cell_type": "code",
   "execution_count": 51,
   "id": "50303503",
   "metadata": {},
   "outputs": [
    {
     "name": "stdout",
     "output_type": "stream",
     "text": [
      "[ 1  2  3  4  5  6  7  8  9 10 11 12 13 14 15 16 17 18]\n"
     ]
    }
   ],
   "source": [
    "a=np.array([1,2,3,4,5,6,7,8,9,10,11,12,13,14,15,16,17,18])\n",
    "print(a[:])"
   ]
  },
  {
   "cell_type": "code",
   "execution_count": 52,
   "id": "dc355d1a",
   "metadata": {},
   "outputs": [
    {
     "name": "stdout",
     "output_type": "stream",
     "text": [
      "[1 2 3 4 5 6 7 8 9]\n"
     ]
    }
   ],
   "source": [
    "a=np.array([[1,2,3,4,5,6,7,8,9],[10,11,12,13,14,15,16,17,18]])\n",
    "print(a[0])"
   ]
  },
  {
   "cell_type": "code",
   "execution_count": 53,
   "id": "b39dd470",
   "metadata": {},
   "outputs": [
    {
     "name": "stdout",
     "output_type": "stream",
     "text": [
      "[10 11 12 13 14 15 16 17 18]\n"
     ]
    }
   ],
   "source": [
    "print(a[1])"
   ]
  },
  {
   "cell_type": "code",
   "execution_count": 54,
   "id": "9670b7a8",
   "metadata": {},
   "outputs": [
    {
     "name": "stdout",
     "output_type": "stream",
     "text": [
      "[[ 1  2  3  4  5  6  7  8  9]\n",
      " [10 11 12 13 14 15 16 17 18]]\n"
     ]
    }
   ],
   "source": [
    "print(a)"
   ]
  },
  {
   "cell_type": "code",
   "execution_count": 55,
   "id": "7ef0d338",
   "metadata": {},
   "outputs": [
    {
     "name": "stdout",
     "output_type": "stream",
     "text": [
      "[1 2 3]\n"
     ]
    }
   ],
   "source": [
    "print(a[0,:3])"
   ]
  },
  {
   "cell_type": "code",
   "execution_count": 56,
   "id": "04e86c29",
   "metadata": {},
   "outputs": [
    {
     "name": "stdout",
     "output_type": "stream",
     "text": [
      "[10 11 12 13 14 15 16 17 18]\n"
     ]
    }
   ],
   "source": [
    "print(a[1,:])"
   ]
  },
  {
   "cell_type": "code",
   "execution_count": 57,
   "id": "97b9c083",
   "metadata": {},
   "outputs": [
    {
     "name": "stdout",
     "output_type": "stream",
     "text": [
      "[10 11 12]\n",
      "10\n",
      "11\n",
      "12\n"
     ]
    }
   ],
   "source": [
    "ab=(a[-1,:3])\n",
    "print(ab)\n",
    "for x in ab:\n",
    "    print(x)"
   ]
  },
  {
   "cell_type": "code",
   "execution_count": 58,
   "id": "a9d1181d",
   "metadata": {},
   "outputs": [
    {
     "name": "stdout",
     "output_type": "stream",
     "text": [
      "[[[1 2 3 4]\n",
      "  [5 6 7 8]]]\n",
      "6\n"
     ]
    }
   ],
   "source": [
    "a=np.array([[[1,2,3,4],[5,6,7,8]]])\n",
    "print(a)\n",
    "ab=a[0,1,1]           # Here 3 Dimensional Array in which slicing is work with 3 parameter\n",
    "print(ab)"
   ]
  },
  {
   "cell_type": "code",
   "execution_count": 59,
   "id": "672ba451",
   "metadata": {},
   "outputs": [
    {
     "name": "stdout",
     "output_type": "stream",
     "text": [
      "[[[[ 1  2  3  4]\n",
      "   [ 5  6  7  8]]\n",
      "\n",
      "  [[ 9 10 11 12]\n",
      "   [13 14 15 16]]]\n",
      "\n",
      "\n",
      " [[[ 1  2  3  4]\n",
      "   [ 5  6  7  8]]\n",
      "\n",
      "  [[ 9 10 11 12]\n",
      "   [13 14 15 16]]]]\n",
      "The number of dimensions is: 4\n",
      "[ 9 10]\n"
     ]
    }
   ],
   "source": [
    "a=np.array([[[[1,2,3,4],[5,6,7,8]],[[9,10,11,12],[13,14,15,16]]],[[[1,2,3,4],[5,6,7,8]],[[9,10,11,12],[13,14,15,16]]]])\n",
    "print(a)\n",
    "print(\"The number of dimensions is:\",a.ndim)\n",
    "ab=a[-1,-1,0,:2]\n",
    "print(ab)"
   ]
  },
  {
   "cell_type": "markdown",
   "id": "aa27a919",
   "metadata": {},
   "source": [
    "# Working with array Spliting "
   ]
  },
  {
   "cell_type": "code",
   "execution_count": 60,
   "id": "96e6066b",
   "metadata": {},
   "outputs": [
    {
     "name": "stdout",
     "output_type": "stream",
     "text": [
      "[array([1, 2, 3, 4, 5]), array([ 6,  7,  8,  9, 10]), array([11, 12, 13, 14]), array([15, 16, 17, 18])]\n"
     ]
    }
   ],
   "source": [
    "a=np.array([1,2,3,4,5,6,7,8,9,10,11,12,13,14,15,16,17,18])\n",
    "ab=(np.array_split(a,4))\n",
    "print(ab)\n"
   ]
  },
  {
   "cell_type": "code",
   "execution_count": 61,
   "id": "e94c6d78",
   "metadata": {},
   "outputs": [
    {
     "name": "stdout",
     "output_type": "stream",
     "text": [
      "[11 12 13 14]\n"
     ]
    }
   ],
   "source": [
    "print(ab[2])"
   ]
  },
  {
   "cell_type": "code",
   "execution_count": 62,
   "id": "1cd92f80",
   "metadata": {},
   "outputs": [
    {
     "name": "stdout",
     "output_type": "stream",
     "text": [
      "[array([1, 2, 3]), array([4, 5, 6]), array([7, 8, 9]), array([10, 11, 12]), array([13, 14, 15]), array([16, 17, 18])]\n"
     ]
    }
   ],
   "source": [
    "a=np.array([1,2,3,4,5,6,7,8,9,10,11,12,13,14,15,16,17,18])\n",
    "ab=np.array_split(a,6)\n",
    "print(ab)"
   ]
  },
  {
   "cell_type": "code",
   "execution_count": 63,
   "id": "1e21f2c9",
   "metadata": {},
   "outputs": [
    {
     "data": {
      "text/plain": [
       "[array([1]),\n",
       " array([2]),\n",
       " array([3]),\n",
       " array([4]),\n",
       " array([5]),\n",
       " array([6]),\n",
       " array([7]),\n",
       " array([8]),\n",
       " array([9]),\n",
       " array([10]),\n",
       " array([11]),\n",
       " array([12]),\n",
       " array([13]),\n",
       " array([14]),\n",
       " array([15]),\n",
       " array([16]),\n",
       " array([17]),\n",
       " array([18]),\n",
       " array([], dtype=int32),\n",
       " array([], dtype=int32),\n",
       " array([], dtype=int32),\n",
       " array([], dtype=int32)]"
      ]
     },
     "execution_count": 63,
     "metadata": {},
     "output_type": "execute_result"
    }
   ],
   "source": [
    "a=np.array([1,2,3,4,5,6,7,8,9,10,11,12,13,14,15,16,17,18])\n",
    "ab=np.array_split(a,22)\n",
    "ab"
   ]
  }
 ],
 "metadata": {
  "kernelspec": {
   "display_name": "Python 3 (ipykernel)",
   "language": "python",
   "name": "python3"
  },
  "language_info": {
   "codemirror_mode": {
    "name": "ipython",
    "version": 3
   },
   "file_extension": ".py",
   "mimetype": "text/x-python",
   "name": "python",
   "nbconvert_exporter": "python",
   "pygments_lexer": "ipython3",
   "version": "3.9.6"
  }
 },
 "nbformat": 4,
 "nbformat_minor": 5
}
